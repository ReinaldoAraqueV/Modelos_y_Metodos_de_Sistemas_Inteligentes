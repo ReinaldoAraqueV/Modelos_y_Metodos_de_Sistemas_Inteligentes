{
 "cells": [
  {
   "cell_type": "markdown",
   "id": "35d4adca",
   "metadata": {},
   "source": [
    "# Fuzzy Control Systems: El Problema de la Propina\n",
    "\n",
    "**Disciplina:** Lógica Difusa, Sistemas de Control\n",
    "\n",
    "**Objetivo:**\n",
    "El objetivo de este notebook es ilustrar los principios de la lógica difusa para generar un comportamiento complejo a partir de un conjunto compacto e intuitivo de reglas expertas, utilizando el \"problema de la propina\" como ejemplo. Se creará un sistema de control difuso para modelar cómo se podría decidir la propina en un restaurante basándose en la calidad del servicio y la comida."
   ]
  },
  {
   "cell_type": "markdown",
   "id": "8aa9e0af",
   "metadata": {},
   "source": [
    "## 1. Carga de Librerías\n",
    "\n",
    "Para este ejercicio, utilizaremos `numpy` para la creación de rangos numéricos y `skfuzzy` para las funcionalidades de lógica difusa y control. Específicamente, `skfuzzy.control` nos proporciona la API para construir sistemas de control difuso."
   ]
  },
  {
   "cell_type": "code",
   "execution_count": 14,
   "id": "de324b77",
   "metadata": {},
   "outputs": [],
   "source": [
    "# Configuración para el entorno de trabajo\n",
    "%reload_ext autoreload\n",
    "%autoreload 2\n",
    "\n",
    "# Configuración para mostrar gráficos inline en Jupyter Notebook (opcional en script, pero útil para notebook)\n",
    "# Esto se activaría en una celda de código de notebook\n",
    "%matplotlib inline"
   ]
  },
  {
   "cell_type": "code",
   "execution_count": 15,
   "id": "b4895cd7",
   "metadata": {},
   "outputs": [],
   "source": [
    "# Importar librerías necesarias\n",
    "import numpy as np\n",
    "import skfuzzy as fuzz\n",
    "from skfuzzy import control as ctrl\n",
    "import matplotlib.pyplot as plt # Importar matplotlib para visualizaciones si es necesario fuera de .view()\n",
    "import matplotlib\n",
    "\n",
    "matplotlib.use('TkAgg')"
   ]
  },
  {
   "cell_type": "markdown",
   "id": "d2f52356",
   "metadata": {},
   "source": [
    "## 2. Definición del Problema de la Propina\n",
    "\n",
    "Crearemos un sistema de control difuso que modela cómo podrías decidir dar propina en un restaurante. Al dar propina, consideras la calidad del servicio y la calidad de la comida, calificadas entre 0 y 10. Usas esto para dejar una propina de entre 0 y 25%.\n",
    "\n",
    "Formularíamos este problema como:\n",
    "\n",
    "* **Antecedentes (Entradas)**\n",
    "   - `calidad_comida` (quality)\n",
    "      * Universo (rango de valores nítidos): ¿Qué tan sabrosa fue la comida, en una escala de 0 a 10?\n",
    "      * Conjuntos difusos (rango de valores difusos): mala, decente, excelente (poor, acceptable, amazing en el original, se adaptará a 3 niveles)\n",
    "   - `servicio` (service)\n",
    "      * Universo: ¿Qué tan bueno fue el servicio del personal, en una escala de 0 a 10?\n",
    "      * Conjuntos difusos: pobre, aceptable, increíble (poor, acceptable, amazing en el original, se adaptará a 3 niveles)\n",
    "* **Consecuentes (Salidas)**\n",
    "   - `propina` (tip)\n",
    "      * Universo: ¿Cuánta propina deberíamos dejar, en una escala de 0% a 25%?\n",
    "      * Conjuntos difusos: baja, media, alta\n",
    "* **Reglas**\n",
    "   - SI el *servicio* fue bueno O la *calidad de la comida* fue buena, ENTONCES la propina será alta.\n",
    "   - SI el *servicio* fue aceptable, ENTONCES la propina será media.\n",
    "   - SI el *servicio* fue pobre Y la *calidad de la comida* fue pobre, ENTONCES la propina será baja.\n",
    "* **Uso**\n",
    "   - Si le digo a este controlador que califiqué:\n",
    "      * el servicio como 9.8, y\n",
    "      * la calidad de la comida como 6.5,\n",
    "   - recomendaría dejar:\n",
    "      * una propina del (aproximadamente) 20.2%."
   ]
  },
  {
   "cell_type": "markdown",
   "id": "a9129e27",
   "metadata": {},
   "source": [
    "## 3. Desarrollo del Sistema de Control Difuso\n",
    "\n",
    "### 3.1. Definición de Variables del Universo (Antecedentes y Consecuentes)\n",
    "\n",
    "**Objetivo:** Crear los objetos Antecedente y Consecuente que contienen las variables del universo y sus funciones de pertenencia."
   ]
  },
  {
   "cell_type": "code",
   "execution_count": 16,
   "id": "580db0cf",
   "metadata": {},
   "outputs": [],
   "source": [
    "# Los nuevos objetos Antecedent/Consequent almacenan las variables del universo y las funciones de pertenencia.\n",
    "calidad_comida = ctrl.Antecedent(np.arange(0, 11, 1), 'calidad_comida') # Renombrado de 'quality'\n",
    "servicio = ctrl.Antecedent(np.arange(0, 11, 1), 'servicio')\n",
    "propina = ctrl.Consequent(np.arange(0, 26, 1), 'propina') # Renombrado de 'tip'"
   ]
  },
  {
   "cell_type": "markdown",
   "id": "bdf2dadf",
   "metadata": {},
   "source": [
    "### 3.2. Funciones de Pertenencia Automáticas y Personalizadas\n",
    "\n",
    "**Objetivo:** Poblar las funciones de pertenencia. Usaremos funciones automáticas para las entradas y personalizadas para la salida.\n",
    "\n",
    "**Características:**\n",
    "* `automf(n)`: Puede generar automáticamente `n` funciones de pertenencia (típicamente 3, 5 o 7). Para este ejemplo, usaremos 3 para `calidad_comida` y `servicio`, que `skfuzzy` nombrará como 'poor', 'average', 'good' (o similar, dependiendo de la versión y la lógica interna, aunque el script original usa poor, acceptable, amazing; automf(3) generará nombres genéricos que podemos remapear conceptualmente o usar directamente).\n",
    "* Funciones personalizadas: Se construirán interactivamente para la variable `propina` usando funciones triangulares (`trimf`)."
   ]
  },
  {
   "cell_type": "code",
   "execution_count": 17,
   "id": "8f6657a8",
   "metadata": {},
   "outputs": [],
   "source": [
    "# La población automática de funciones de pertenencia es posible con .automf(3, 5 o 7)\n",
    "# Esto generará funciones llamadas 'poor', 'average', 'good' para cada una.\n",
    "calidad_comida.automf(3, names=['pobre', 'decente', 'excelente']) # Usando names para etiquetas en español\n",
    "servicio.automf(3, names=['pobre', 'aceptable', 'increible'])    # Usando names para etiquetas en español\n",
    "\n",
    "\n",
    "# Las funciones de pertenencia personalizadas se pueden construir interactivamente con una API familiar,\n",
    "# similar a Python.\n",
    "propina['baja'] = fuzz.trimf(propina.universe, [0, 0, 13])\n",
    "propina['media'] = fuzz.trimf(propina.universe, [0, 13, 25])\n",
    "propina['alta'] = fuzz.trimf(propina.universe, [13, 25, 25])"
   ]
  },
  {
   "cell_type": "markdown",
   "id": "14ef3b03",
   "metadata": {},
   "source": [
    "### 3.3. Visualización de las Funciones de Pertenencia\n",
    "\n",
    "**Objetivo:** Entender cómo se ven las funciones de pertenencia definidas.\n",
    "\n",
    "**Método:** Utilizaremos el método `.view()` para cada variable difusa. En un entorno Jupyter, los gráficos se muestran inline. En otros entornos, podría ser necesario `plt.show()`."
   ]
  },
  {
   "cell_type": "code",
   "execution_count": 18,
   "id": "28b44629",
   "metadata": {},
   "outputs": [
    {
     "data": {
      "text/plain": [
       "Text(0.5, 1.0, 'Funciones de Pertenencia para Calidad de la Comida')"
      ]
     },
     "execution_count": 18,
     "metadata": {},
     "output_type": "execute_result"
    }
   ],
   "source": [
    "# Puedes ver cómo se ven estas funciones con .view()\n",
    "# calidad_comida['decente'].view() # El script original visualizaba una MF específica 'average'\n",
    "# Aquí visualizaremos todas las funciones de pertenencia para cada variable.\n",
    "calidad_comida.view()\n",
    "plt.title('Funciones de Pertenencia para Calidad de la Comida') # Añadir título para claridad\n",
    "# Se añade plt.show() para asegurar la visualización en scripts, aunque en notebooks .view() suele ser suficiente.\n",
    "# Para formato Percent Script, es mejor asumir que se necesita plt.show() si no es la última línea de la celda.\n",
    "# No obstante, .view() a menudo maneja esto internamente en algunos backends.\n",
    "# Si no se muestra en el notebook, descomentar plt.show() o ejecutar en celdas separadas."
   ]
  },
  {
   "cell_type": "code",
   "execution_count": 19,
   "id": "de716fc1",
   "metadata": {},
   "outputs": [
    {
     "data": {
      "text/plain": [
       "Text(0.5, 1.0, 'Funciones de Pertenencia para Servicio')"
      ]
     },
     "execution_count": 19,
     "metadata": {},
     "output_type": "execute_result"
    }
   ],
   "source": [
    "servicio.view()\n",
    "plt.title('Funciones de Pertenencia para Servicio')"
   ]
  },
  {
   "cell_type": "code",
   "execution_count": 20,
   "id": "a83fa857",
   "metadata": {},
   "outputs": [
    {
     "data": {
      "text/plain": [
       "Text(0.5, 1.0, 'Funciones de Pertenencia para Propina')"
      ]
     },
     "execution_count": 20,
     "metadata": {},
     "output_type": "execute_result"
    }
   ],
   "source": [
    "propina.view()\n",
    "plt.title('Funciones de Pertenencia para Propina')"
   ]
  },
  {
   "cell_type": "markdown",
   "id": "e822649a",
   "metadata": {},
   "source": [
    "### 3.4. Definición de las Reglas Difusas\n",
    "\n",
    "**Objetivo:** Definir la relación difusa entre las variables de entrada y salida.\n",
    "\n",
    "**Reglas a Implementar:**\n",
    "1. SI la *calidad de la comida* es pobre (pobre) O el *servicio* es pobre (pobre), ENTONCES la propina será baja.\n",
    "2. SI el *servicio* es aceptable (aceptable), ENTONCES la propina será media.\n",
    "3. SI la *calidad de la comida* es buena (excelente) O el *servicio* es bueno (increible), ENTONCES la propina será alta.\n",
    "\n",
    "**Nota sobre etiquetas:** `automf(3)` en `skfuzzy` por defecto crea etiquetas como 'poor', 'average', 'good'. Usaremos estas etiquetas generadas o las personalizadas si se definieron con `names`.\n",
    "Script original usa: `quality['poor']`, `service['poor']`, `service['average']`, `service['good']`, `quality['good']`.\n",
    "Adaptaremos a las etiquetas generadas/personalizadas:\n",
    "calidad_comida: 'pobre', 'decente', 'excelente'\n",
    "servicio: 'pobre', 'aceptable', 'increible'"
   ]
  },
  {
   "cell_type": "code",
   "execution_count": 21,
   "id": "5f5ce8ab",
   "metadata": {},
   "outputs": [],
   "source": [
    "# Definición de las reglas\n",
    "# Usar las etiquetas que automf(3, names=[...]) creó o las que se definieron manualmente.\n",
    "rule1 = ctrl.Rule(calidad_comida['pobre'] | servicio['pobre'], propina['baja'])\n",
    "rule2 = ctrl.Rule(servicio['aceptable'], propina['media'])\n",
    "rule3 = ctrl.Rule(servicio['increible'] | calidad_comida['excelente'], propina['alta'])"
   ]
  },
  {
   "cell_type": "markdown",
   "id": "3a47614f",
   "metadata": {},
   "source": [
    "### 3.5. Creación y Simulación del Sistema de Control\n",
    "\n",
    "**Objetivo:** Crear el sistema de control a partir de las reglas y simularlo con entradas específicas.\n",
    "\n",
    "**Proceso:**\n",
    "1. Crear un objeto `ControlSystem` con la lista de reglas.\n",
    "2. Crear un objeto `ControlSystemSimulation` para aplicar el controlador a circunstancias específicas.\n",
    "3. Especificar los valores de entrada para `calidad_comida` y `servicio`.\n",
    "4. Ejecutar el método `compute()` para obtener la salida."
   ]
  },
  {
   "cell_type": "code",
   "execution_count": 22,
   "id": "a858bee6",
   "metadata": {},
   "outputs": [],
   "source": [
    "# Creación del sistema de control\n",
    "sistema_ctrl_propina = ctrl.ControlSystem([rule1, rule2, rule3]) # Renombrado de tipping_ctrl"
   ]
  },
  {
   "cell_type": "markdown",
   "id": "a89db48d",
   "metadata": {
    "lines_to_next_cell": 0
   },
   "source": [
    "**Simulación:**\n",
    "Para simular este sistema de control, crearemos un `ControlSystemSimulation`. Este objeto representa nuestro controlador aplicado a un conjunto específico de circunstancias."
   ]
  },
  {
   "cell_type": "code",
   "execution_count": 23,
   "id": "417668e8",
   "metadata": {},
   "outputs": [],
   "source": [
    "# Creación de la simulación del sistema de control\n",
    "simulacion_propina = ctrl.ControlSystemSimulation(sistema_ctrl_propina) # Renombrado de tipping"
   ]
  },
  {
   "cell_type": "markdown",
   "id": "46ff8bb1",
   "metadata": {
    "lines_to_next_cell": 0
   },
   "source": [
    "Ahora podemos simular nuestro sistema de control especificando las entradas y llamando al método `compute`. Supongamos que calificamos la calidad de la comida como 6.5 de 10 y el servicio como 9.8 de 10."
   ]
  },
  {
   "cell_type": "code",
   "execution_count": 24,
   "id": "55a0d221",
   "metadata": {},
   "outputs": [],
   "source": [
    "# Pasar entradas al ControlSystem usando las etiquetas de los Antecedentes\n",
    "simulacion_propina.input['calidad_comida'] = 6.5\n",
    "simulacion_propina.input['servicio'] = 9.8\n",
    "\n",
    "# Realizar los cálculos\n",
    "simulacion_propina.compute()"
   ]
  },
  {
   "cell_type": "markdown",
   "id": "0b154116",
   "metadata": {},
   "source": [
    "### 3.6. Visualización del Resultado\n",
    "\n",
    "**Objetivo:** Mostrar el valor de salida calculado y visualizarlo."
   ]
  },
  {
   "cell_type": "code",
   "execution_count": 25,
   "id": "6e553c80",
   "metadata": {},
   "outputs": [
    {
     "name": "stdout",
     "output_type": "stream",
     "text": [
      "El valor de la propina sugerida es: 19.85%\n"
     ]
    }
   ],
   "source": [
    "# Obtener y mostrar la salida\n",
    "valor_propina = simulacion_propina.output['propina']\n",
    "print(f\"El valor de la propina sugerida es: {valor_propina:.2f}%\")"
   ]
  },
  {
   "cell_type": "code",
   "execution_count": 26,
   "id": "a279adb8",
   "metadata": {},
   "outputs": [
    {
     "data": {
      "text/plain": [
       "Text(0.5, 1.0, 'Salida de la Propina con Agregación y Desfusificación')"
      ]
     },
     "execution_count": 26,
     "metadata": {},
     "output_type": "execute_result"
    }
   ],
   "source": [
    "# Visualizar la variable de salida con el resultado de la simulación\n",
    "propina.view(sim=simulacion_propina)\n",
    "plt.title('Salida de la Propina con Agregación y Desfusificación')"
   ]
  },
  {
   "cell_type": "markdown",
   "id": "71ba7fe3",
   "metadata": {},
   "source": [
    "## 4. Conclusiones del Ejercicio\n",
    "\n",
    "**Interpretación del Resultado:**\n",
    "El valor de la propina resultante (por ejemplo, 19.84% en el script original) es la recomendación del sistema de control difuso basado en las entradas y las reglas definidas.\n",
    "\n",
    "**Reflexiones Finales:**\n",
    "El poder de los sistemas difusos radica en permitir un comportamiento complicado e intuitivo basado en un sistema disperso de reglas con una sobrecarga mínima. Es importante notar que, aunque los universos de nuestras funciones de pertenencia eran relativamente simples (definidos en enteros), `fuzz.interp_membership` permite que la resolución efectiva aumente bajo demanda. Este sistema puede responder a cambios arbitrariamente pequeños en las entradas, y la carga de procesamiento es mínima.\n",
    "\n",
    "Este ejemplo demuestra cómo se puede modelar un problema de toma de decisiones del mundo real utilizando lógica difusa, transformando reglas lingüísticas y conocimiento experto en un sistema automatizado."
   ]
  }
 ],
 "metadata": {
  "jupytext": {
   "cell_metadata_filter": "-all",
   "main_language": "python",
   "notebook_metadata_filter": "-all"
  },
  "kernelspec": {
   "display_name": "MADSI",
   "language": "python",
   "name": "python3"
  },
  "language_info": {
   "codemirror_mode": {
    "name": "ipython",
    "version": 3
   },
   "file_extension": ".py",
   "mimetype": "text/x-python",
   "name": "python",
   "nbconvert_exporter": "python",
   "pygments_lexer": "ipython3",
   "version": "3.11.11"
  }
 },
 "nbformat": 4,
 "nbformat_minor": 5
}
